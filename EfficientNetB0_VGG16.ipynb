{
  "nbformat": 4,
  "nbformat_minor": 0,
  "metadata": {
    "colab": {
      "name": "EfficientNetB0_transferLearning.ipynb",
      "provenance": [],
      "machine_shape": "hm",
      "background_execution": "on",
      "collapsed_sections": []
    },
    "kernelspec": {
      "name": "python3",
      "display_name": "Python 3"
    },
    "language_info": {
      "name": "python"
    },
    "accelerator": "GPU"
  },
  "cells": [
    {
      "cell_type": "code",
      "source": [
        "import pandas as pd\n",
        "import tensorflow as tf\n",
        "import numpy as np\n",
        "import torch\n",
        "import torch.nn as nn\n",
        "import torch.nn.functional as F\n",
        "import torch.optim as optim\n",
        "import torchvision\n",
        "#import sklearn\n",
        "import matplotlib.pyplot as plt\n",
        "import copy\n",
        "from torchvision import transforms\n",
        "from keras.models import Sequential, save\n",
        "from keras.layers import Dense, Conv2D, Flatten, BatchNormalization, MaxPool2D, Dropout, Softmax, ReLU\n",
        "IMG_SIZE = 224"
      ],
      "metadata": {
        "id": "8xXurzu_v_OR"
      },
      "execution_count": null,
      "outputs": []
    },
    {
      "cell_type": "code",
      "execution_count": null,
      "metadata": {
        "id": "eDCxMnwJ1lAq"
      },
      "outputs": [],
      "source": [
        "#NB default value for dropout rate is 0.2\n",
        "from tensorflow.keras.applications import EfficientNetB0 \n",
        "model = EfficientNetB0(include_top=False,weights='imagenet')"
      ]
    },
    {
      "cell_type": "code",
      "source": [
        "dir = '/content/drive/Othercomputers/Mon MacBook Pro/Documents/labelled_folder'\n",
        "\n",
        "batch_size = 32\n",
        "\n",
        "train_ds = tf.keras.preprocessing.image_dataset_from_directory(\n",
        "    directory = dir,\n",
        "    labels='inferred',\n",
        "    batch_size = batch_size,\n",
        "    image_size=(IMG_SIZE, IMG_SIZE),\n",
        "    shuffle = True,\n",
        "    validation_split = 0.3,\n",
        "    subset = 'training',\n",
        "    seed = 123,\n",
        "    label_mode='categorical')\n",
        "\n",
        "val_ds = tf.keras.preprocessing.image_dataset_from_directory(\n",
        "    directory = dir,\n",
        "    labels='inferred',\n",
        "    batch_size = batch_size,\n",
        "    image_size=(IMG_SIZE, IMG_SIZE),\n",
        "    shuffle = True,\n",
        "    validation_split = 0.3,\n",
        "    subset = 'validation',\n",
        "    seed = 123,\n",
        "    label_mode='categorical')"
      ],
      "metadata": {
        "id": "_hS6ZRonVhpn",
        "colab": {
          "base_uri": "https://localhost:8080/"
        },
        "outputId": "c41b2be1-0d82-452e-e1a1-6d76746c358d"
      },
      "execution_count": null,
      "outputs": [
        {
          "output_type": "stream",
          "name": "stdout",
          "text": [
            "Found 15339 files belonging to 7 classes.\n",
            "Using 10738 files for training.\n",
            "Found 15339 files belonging to 7 classes.\n",
            "Using 4601 files for validation.\n"
          ]
        }
      ]
    },
    {
      "cell_type": "code",
      "source": [
        "#Proceed with Data augmentation \n",
        "from tensorflow.keras.models import Sequential\n",
        "from tensorflow.keras import layers\n",
        "\n",
        "img_augmentation = Sequential(\n",
        "    [\n",
        "        layers.RandomRotation(factor=0.15),\n",
        "        layers.RandomTranslation(height_factor=0.1, width_factor=0.1),\n",
        "        layers.RandomFlip(),\n",
        "        layers.RandomContrast(factor=0.1),\n",
        "    ],\n",
        "    name=\"img_augmentation\",\n",
        ")\n"
      ],
      "metadata": {
        "id": "P5YLdEglyo0o"
      },
      "execution_count": null,
      "outputs": []
    },
    {
      "cell_type": "code",
      "source": [
        "import os\n",
        "strategy = tf.distribute.MirroredStrategy()"
      ],
      "metadata": {
        "colab": {
          "base_uri": "https://localhost:8080/"
        },
        "id": "FNarzBuq5Rki",
        "outputId": "f5038a24-6cb9-4af8-e643-44bd45605129"
      },
      "execution_count": null,
      "outputs": [
        {
          "output_type": "stream",
          "name": "stdout",
          "text": [
            "INFO:tensorflow:Using MirroredStrategy with devices ('/job:localhost/replica:0/task:0/device:GPU:0',)\n"
          ]
        }
      ]
    },
    {
      "cell_type": "code",
      "source": [
        "# Set random seed and set device to GPU\n",
        "#torch.manual_seed(1234)\n",
        "#device = torch.device(\"cuda\" if torch.cuda.is_available() else \"cpu\")"
      ],
      "metadata": {
        "id": "kANMySOP53jn"
      },
      "execution_count": null,
      "outputs": []
    },
    {
      "cell_type": "code",
      "source": [
        "from tensorflow.keras.applications import EfficientNetB0\n",
        "\n",
        "with strategy.scope():\n",
        "    inputs = layers.Input(shape=(IMG_SIZE, IMG_SIZE, 3))\n",
        "    x = img_augmentation(inputs)\n",
        "    outputs = EfficientNetB0(include_top=True, weights=None, classes=7)(x)\n",
        "\n",
        "    model = tf.keras.Model(inputs, outputs)\n",
        "    model.compile(\n",
        "        optimizer=\"adam\", loss=\"categorical_crossentropy\", metrics=[\"accuracy\"]\n",
        "    )\n",
        "\n",
        "model.summary()\n",
        "\n",
        "epochs = 5 #before this was set to 40\n",
        "hist = model.fit(train_ds, epochs=epochs, validation_data=val_ds, verbose=2)"
      ],
      "metadata": {
        "colab": {
          "base_uri": "https://localhost:8080/"
        },
        "id": "xV0UpHNg4cvw",
        "outputId": "698e1022-35c3-46e7-83c8-e7e9789edce3"
      },
      "execution_count": null,
      "outputs": [
        {
          "output_type": "stream",
          "name": "stdout",
          "text": [
            "INFO:tensorflow:Reduce to /job:localhost/replica:0/task:0/device:CPU:0 then broadcast to ('/job:localhost/replica:0/task:0/device:CPU:0',).\n",
            "INFO:tensorflow:Reduce to /job:localhost/replica:0/task:0/device:CPU:0 then broadcast to ('/job:localhost/replica:0/task:0/device:CPU:0',).\n",
            "INFO:tensorflow:Reduce to /job:localhost/replica:0/task:0/device:CPU:0 then broadcast to ('/job:localhost/replica:0/task:0/device:CPU:0',).\n",
            "INFO:tensorflow:Reduce to /job:localhost/replica:0/task:0/device:CPU:0 then broadcast to ('/job:localhost/replica:0/task:0/device:CPU:0',).\n",
            "INFO:tensorflow:Reduce to /job:localhost/replica:0/task:0/device:CPU:0 then broadcast to ('/job:localhost/replica:0/task:0/device:CPU:0',).\n",
            "INFO:tensorflow:Reduce to /job:localhost/replica:0/task:0/device:CPU:0 then broadcast to ('/job:localhost/replica:0/task:0/device:CPU:0',).\n",
            "INFO:tensorflow:Reduce to /job:localhost/replica:0/task:0/device:CPU:0 then broadcast to ('/job:localhost/replica:0/task:0/device:CPU:0',).\n",
            "INFO:tensorflow:Reduce to /job:localhost/replica:0/task:0/device:CPU:0 then broadcast to ('/job:localhost/replica:0/task:0/device:CPU:0',).\n",
            "INFO:tensorflow:Reduce to /job:localhost/replica:0/task:0/device:CPU:0 then broadcast to ('/job:localhost/replica:0/task:0/device:CPU:0',).\n",
            "INFO:tensorflow:Reduce to /job:localhost/replica:0/task:0/device:CPU:0 then broadcast to ('/job:localhost/replica:0/task:0/device:CPU:0',).\n",
            "Model: \"model\"\n",
            "_________________________________________________________________\n",
            " Layer (type)                Output Shape              Param #   \n",
            "=================================================================\n",
            " input_1 (InputLayer)        [(None, 224, 224, 3)]     0         \n",
            "                                                                 \n",
            " img_augmentation (Sequentia  (None, 224, 224, 3)      0         \n",
            " l)                                                              \n",
            "                                                                 \n",
            " efficientnetb0 (Functional)  (None, 7)                4058538   \n",
            "                                                                 \n",
            "=================================================================\n",
            "Total params: 4,058,538\n",
            "Trainable params: 4,016,515\n",
            "Non-trainable params: 42,023\n",
            "_________________________________________________________________\n",
            "Epoch 1/5\n"
          ]
        }
      ]
    },
    {
      "cell_type": "code",
      "source": [
        "import matplotlib.pyplot as plt\n",
        "\n",
        "def plot_hist(hist):\n",
        "    plt.plot(hist.history[\"accuracy\"])\n",
        "    plt.plot(hist.history[\"val_accuracy\"])\n",
        "    plt.title(\"model accuracy\")\n",
        "    plt.ylabel(\"accuracy\")\n",
        "    plt.xlabel(\"epoch\")\n",
        "    plt.legend([\"train\", \"validation\"], loc=\"upper left\")\n",
        "    plt.show()\n",
        "\n",
        "\n",
        "plot_hist(hist)\n",
        "#we can see in the plot that we have convergence between the training and validation accuracy (arround 75%)"
      ],
      "metadata": {
        "colab": {
          "base_uri": "https://localhost:8080/",
          "height": 215
        },
        "id": "pNk8CWtk-_WY",
        "outputId": "5e17070f-7951-43d6-df8f-5d61c563cdd2"
      },
      "execution_count": null,
      "outputs": [
        {
          "output_type": "error",
          "ename": "NameError",
          "evalue": "ignored",
          "traceback": [
            "\u001b[0;31m---------------------------------------------------------------------------\u001b[0m",
            "\u001b[0;31mNameError\u001b[0m                                 Traceback (most recent call last)",
            "\u001b[0;32m<ipython-input-6-3fde5ad191f2>\u001b[0m in \u001b[0;36m<module>\u001b[0;34m()\u001b[0m\n\u001b[1;32m     11\u001b[0m \u001b[0;34m\u001b[0m\u001b[0m\n\u001b[1;32m     12\u001b[0m \u001b[0;34m\u001b[0m\u001b[0m\n\u001b[0;32m---> 13\u001b[0;31m \u001b[0mplot_hist\u001b[0m\u001b[0;34m(\u001b[0m\u001b[0mhist\u001b[0m\u001b[0;34m)\u001b[0m\u001b[0;34m\u001b[0m\u001b[0;34m\u001b[0m\u001b[0m\n\u001b[0m\u001b[1;32m     14\u001b[0m \u001b[0;31m#we can see in the plot that we have convergence between the training and validation accuracy (arround 75%)\u001b[0m\u001b[0;34m\u001b[0m\u001b[0;34m\u001b[0m\u001b[0;34m\u001b[0m\u001b[0m\n",
            "\u001b[0;31mNameError\u001b[0m: name 'hist' is not defined"
          ]
        }
      ]
    },
    {
      "cell_type": "code",
      "source": [
        "def build_model(num_classes):\n",
        "    inputs = layers.Input(shape=(IMG_SIZE, IMG_SIZE, 3))\n",
        "    x = img_augmentation(inputs)\n",
        "    model = EfficientNetB0(include_top=False, input_tensor=x, weights=\"imagenet\")\n",
        "\n",
        "    # Freeze the pretrained weights\n",
        "    model.trainable = False\n",
        "\n",
        "    # Rebuild top\n",
        "    x = layers.GlobalAveragePooling2D(name=\"avg_pool\")(model.output)\n",
        "    x = layers.BatchNormalization()(x)\n",
        "\n",
        "    top_dropout_rate = 0.2\n",
        "    x = layers.Dropout(top_dropout_rate, name=\"top_dropout\")(x)\n",
        "    outputs = layers.Dense(7, activation=\"softmax\", name=\"pred\")(x) #take input the number of classes (here 7)\n",
        "\n",
        "    # Compile\n",
        "    model = tf.keras.Model(inputs, outputs, name=\"EfficientNet\")\n",
        "    optimizer = tf.keras.optimizers.Adam(learning_rate=1e-2)\n",
        "    model.compile(\n",
        "        optimizer=optimizer, loss=\"categorical_crossentropy\", metrics=[\"accuracy\"]\n",
        "    )\n",
        "    return model"
      ],
      "metadata": {
        "id": "IEUtRpQ2_EON"
      },
      "execution_count": null,
      "outputs": []
    },
    {
      "cell_type": "code",
      "source": [
        "with strategy.scope():\n",
        "    model = build_model(num_classes=7)\n",
        "\n",
        "epochs = 50\n",
        "hist = model.fit(train_ds, epochs=epochs, validation_data=val_ds, verbose=2)"
      ],
      "metadata": {
        "colab": {
          "base_uri": "https://localhost:8080/"
        },
        "id": "J7u0fp6S_SOi",
        "outputId": "70c7e0bf-231d-4f68-a0ee-2a97d9312416"
      },
      "execution_count": null,
      "outputs": [
        {
          "output_type": "stream",
          "name": "stdout",
          "text": [
            "Epoch 1/50\n",
            "336/336 - 26s - loss: 2.4348 - accuracy: 0.4075 - val_loss: 1.4110 - val_accuracy: 0.5127 - 26s/epoch - 78ms/step\n",
            "Epoch 2/50\n",
            "336/336 - 15s - loss: 1.7124 - accuracy: 0.4600 - val_loss: 1.4626 - val_accuracy: 0.4708 - 15s/epoch - 45ms/step\n",
            "Epoch 3/50\n",
            "336/336 - 15s - loss: 1.4402 - accuracy: 0.4852 - val_loss: 1.3060 - val_accuracy: 0.5344 - 15s/epoch - 45ms/step\n",
            "Epoch 4/50\n",
            "336/336 - 15s - loss: 1.3978 - accuracy: 0.4919 - val_loss: 1.2721 - val_accuracy: 0.5392 - 15s/epoch - 45ms/step\n",
            "Epoch 5/50\n",
            "336/336 - 15s - loss: 1.3647 - accuracy: 0.4953 - val_loss: 1.3099 - val_accuracy: 0.5253 - 15s/epoch - 45ms/step\n",
            "Epoch 6/50\n",
            "336/336 - 15s - loss: 1.3848 - accuracy: 0.4894 - val_loss: 1.3131 - val_accuracy: 0.5321 - 15s/epoch - 45ms/step\n",
            "Epoch 7/50\n",
            "336/336 - 15s - loss: 1.3845 - accuracy: 0.4916 - val_loss: 1.3324 - val_accuracy: 0.5351 - 15s/epoch - 45ms/step\n",
            "Epoch 8/50\n",
            "336/336 - 15s - loss: 1.3844 - accuracy: 0.4930 - val_loss: 1.2704 - val_accuracy: 0.5284 - 15s/epoch - 45ms/step\n",
            "Epoch 9/50\n",
            "336/336 - 15s - loss: 1.3859 - accuracy: 0.4908 - val_loss: 1.4289 - val_accuracy: 0.4784 - 15s/epoch - 45ms/step\n",
            "Epoch 10/50\n",
            "336/336 - 15s - loss: 1.3946 - accuracy: 0.4914 - val_loss: 1.3190 - val_accuracy: 0.5314 - 15s/epoch - 45ms/step\n",
            "Epoch 11/50\n",
            "336/336 - 15s - loss: 1.3834 - accuracy: 0.4918 - val_loss: 1.3137 - val_accuracy: 0.5121 - 15s/epoch - 45ms/step\n",
            "Epoch 12/50\n",
            "336/336 - 15s - loss: 1.3919 - accuracy: 0.4931 - val_loss: 1.3714 - val_accuracy: 0.4999 - 15s/epoch - 45ms/step\n",
            "Epoch 13/50\n",
            "336/336 - 15s - loss: 1.4033 - accuracy: 0.4866 - val_loss: 1.3263 - val_accuracy: 0.5208 - 15s/epoch - 45ms/step\n",
            "Epoch 14/50\n",
            "336/336 - 15s - loss: 1.4122 - accuracy: 0.4797 - val_loss: 1.4168 - val_accuracy: 0.4860 - 15s/epoch - 45ms/step\n",
            "Epoch 15/50\n",
            "336/336 - 15s - loss: 1.4141 - accuracy: 0.4816 - val_loss: 1.3467 - val_accuracy: 0.5195 - 15s/epoch - 45ms/step\n",
            "Epoch 16/50\n",
            "336/336 - 15s - loss: 1.4197 - accuracy: 0.4761 - val_loss: 1.3682 - val_accuracy: 0.5110 - 15s/epoch - 45ms/step\n",
            "Epoch 17/50\n",
            "336/336 - 15s - loss: 1.4216 - accuracy: 0.4780 - val_loss: 1.4068 - val_accuracy: 0.4805 - 15s/epoch - 45ms/step\n",
            "Epoch 18/50\n",
            "336/336 - 15s - loss: 1.4132 - accuracy: 0.4841 - val_loss: 1.3537 - val_accuracy: 0.4951 - 15s/epoch - 45ms/step\n",
            "Epoch 19/50\n",
            "336/336 - 15s - loss: 1.4042 - accuracy: 0.4849 - val_loss: 1.4685 - val_accuracy: 0.4449 - 15s/epoch - 45ms/step\n",
            "Epoch 20/50\n",
            "336/336 - 15s - loss: 1.4196 - accuracy: 0.4801 - val_loss: 1.3126 - val_accuracy: 0.5227 - 15s/epoch - 45ms/step\n",
            "Epoch 21/50\n",
            "336/336 - 15s - loss: 1.4091 - accuracy: 0.4849 - val_loss: 1.4352 - val_accuracy: 0.4949 - 15s/epoch - 45ms/step\n",
            "Epoch 22/50\n",
            "336/336 - 15s - loss: 1.4204 - accuracy: 0.4782 - val_loss: 1.2850 - val_accuracy: 0.5266 - 15s/epoch - 45ms/step\n",
            "Epoch 23/50\n",
            "336/336 - 15s - loss: 1.4247 - accuracy: 0.4807 - val_loss: 1.3414 - val_accuracy: 0.5034 - 15s/epoch - 45ms/step\n",
            "Epoch 24/50\n",
            "336/336 - 15s - loss: 1.4257 - accuracy: 0.4778 - val_loss: 1.3478 - val_accuracy: 0.4995 - 15s/epoch - 45ms/step\n",
            "Epoch 25/50\n",
            "336/336 - 15s - loss: 1.4180 - accuracy: 0.4853 - val_loss: 1.4401 - val_accuracy: 0.4653 - 15s/epoch - 45ms/step\n",
            "Epoch 26/50\n",
            "336/336 - 15s - loss: 1.4347 - accuracy: 0.4790 - val_loss: 1.4854 - val_accuracy: 0.4619 - 15s/epoch - 45ms/step\n",
            "Epoch 27/50\n",
            "336/336 - 15s - loss: 1.4225 - accuracy: 0.4817 - val_loss: 1.2971 - val_accuracy: 0.5279 - 15s/epoch - 45ms/step\n",
            "Epoch 28/50\n",
            "336/336 - 15s - loss: 1.4233 - accuracy: 0.4802 - val_loss: 1.4206 - val_accuracy: 0.4753 - 15s/epoch - 45ms/step\n",
            "Epoch 29/50\n",
            "336/336 - 15s - loss: 1.4242 - accuracy: 0.4796 - val_loss: 1.3274 - val_accuracy: 0.5179 - 15s/epoch - 45ms/step\n",
            "Epoch 30/50\n",
            "336/336 - 15s - loss: 1.4158 - accuracy: 0.4820 - val_loss: 1.3600 - val_accuracy: 0.5227 - 15s/epoch - 45ms/step\n",
            "Epoch 31/50\n",
            "336/336 - 15s - loss: 1.4242 - accuracy: 0.4783 - val_loss: 1.3779 - val_accuracy: 0.5014 - 15s/epoch - 45ms/step\n",
            "Epoch 32/50\n",
            "336/336 - 15s - loss: 1.4272 - accuracy: 0.4779 - val_loss: 1.3172 - val_accuracy: 0.5271 - 15s/epoch - 45ms/step\n",
            "Epoch 33/50\n",
            "336/336 - 15s - loss: 1.4300 - accuracy: 0.4763 - val_loss: 1.3134 - val_accuracy: 0.5234 - 15s/epoch - 45ms/step\n",
            "Epoch 34/50\n",
            "336/336 - 15s - loss: 1.4221 - accuracy: 0.4844 - val_loss: 1.3437 - val_accuracy: 0.5142 - 15s/epoch - 45ms/step\n",
            "Epoch 35/50\n",
            "336/336 - 15s - loss: 1.4251 - accuracy: 0.4806 - val_loss: 1.4041 - val_accuracy: 0.4934 - 15s/epoch - 45ms/step\n",
            "Epoch 36/50\n",
            "336/336 - 15s - loss: 1.4288 - accuracy: 0.4778 - val_loss: 1.3357 - val_accuracy: 0.5149 - 15s/epoch - 45ms/step\n",
            "Epoch 37/50\n",
            "336/336 - 15s - loss: 1.4240 - accuracy: 0.4794 - val_loss: 1.4027 - val_accuracy: 0.4942 - 15s/epoch - 45ms/step\n",
            "Epoch 38/50\n",
            "336/336 - 15s - loss: 1.4171 - accuracy: 0.4796 - val_loss: 1.4026 - val_accuracy: 0.5158 - 15s/epoch - 45ms/step\n",
            "Epoch 39/50\n",
            "336/336 - 15s - loss: 1.4309 - accuracy: 0.4796 - val_loss: 1.3416 - val_accuracy: 0.5116 - 15s/epoch - 45ms/step\n",
            "Epoch 40/50\n",
            "336/336 - 15s - loss: 1.4285 - accuracy: 0.4800 - val_loss: 1.3534 - val_accuracy: 0.5084 - 15s/epoch - 45ms/step\n",
            "Epoch 41/50\n",
            "336/336 - 15s - loss: 1.4192 - accuracy: 0.4830 - val_loss: 1.5009 - val_accuracy: 0.4497 - 15s/epoch - 45ms/step\n",
            "Epoch 42/50\n",
            "336/336 - 15s - loss: 1.4265 - accuracy: 0.4834 - val_loss: 1.3295 - val_accuracy: 0.5005 - 15s/epoch - 45ms/step\n",
            "Epoch 43/50\n",
            "336/336 - 15s - loss: 1.4273 - accuracy: 0.4844 - val_loss: 1.3682 - val_accuracy: 0.4929 - 15s/epoch - 45ms/step\n",
            "Epoch 44/50\n",
            "336/336 - 15s - loss: 1.4191 - accuracy: 0.4771 - val_loss: 1.3203 - val_accuracy: 0.5225 - 15s/epoch - 45ms/step\n",
            "Epoch 45/50\n",
            "336/336 - 15s - loss: 1.4145 - accuracy: 0.4829 - val_loss: 1.3560 - val_accuracy: 0.5053 - 15s/epoch - 45ms/step\n",
            "Epoch 46/50\n",
            "336/336 - 15s - loss: 1.4248 - accuracy: 0.4812 - val_loss: 1.3899 - val_accuracy: 0.5040 - 15s/epoch - 45ms/step\n",
            "Epoch 47/50\n",
            "336/336 - 15s - loss: 1.4233 - accuracy: 0.4776 - val_loss: 1.3789 - val_accuracy: 0.5088 - 15s/epoch - 45ms/step\n",
            "Epoch 48/50\n",
            "336/336 - 15s - loss: 1.4374 - accuracy: 0.4722 - val_loss: 1.3280 - val_accuracy: 0.5084 - 15s/epoch - 45ms/step\n",
            "Epoch 49/50\n",
            "336/336 - 15s - loss: 1.4184 - accuracy: 0.4793 - val_loss: 1.3145 - val_accuracy: 0.5295 - 15s/epoch - 45ms/step\n",
            "Epoch 50/50\n",
            "336/336 - 15s - loss: 1.4240 - accuracy: 0.4763 - val_loss: 1.4122 - val_accuracy: 0.4903 - 15s/epoch - 45ms/step\n"
          ]
        }
      ]
    },
    {
      "cell_type": "code",
      "source": [
        "import matplotlib.pyplot as plt\n",
        "\n",
        "def plot_hist(hist):\n",
        "    plt.plot(hist.history[\"accuracy\"])\n",
        "    plt.plot(hist.history[\"val_accuracy\"])\n",
        "    plt.title(\"model accuracy\")\n",
        "    plt.ylabel(\"accuracy\")\n",
        "    plt.xlabel(\"epoch\")\n",
        "    plt.legend([\"train\", \"validation\"], loc=\"upper left\")\n",
        "    plt.show()\n",
        "\n",
        "\n",
        "plot_hist(hist)"
      ],
      "metadata": {
        "id": "1yhUkYEiSNgd",
        "colab": {
          "base_uri": "https://localhost:8080/",
          "height": 295
        },
        "outputId": "a5826622-75a3-434c-e2a5-d24116fbed80"
      },
      "execution_count": null,
      "outputs": [
        {
          "output_type": "display_data",
          "data": {
            "text/plain": [
              "<Figure size 432x288 with 1 Axes>"
            ],
            "image/png": "[encoded data removed]"
          },
          "metadata": {
            "needs_background": "light"
          }
        }
      ]
    },
    {
      "cell_type": "code",
      "source": [
        "def unfreeze_model(model):\n",
        "    # We unfreeze the top 20 layers while leaving BatchNorm layers frozen\n",
        "    for layer in model.layers[-20:]:\n",
        "        if not isinstance(layer, layers.BatchNormalization):\n",
        "            layer.trainable = True\n",
        "\n",
        "    optimizer = tf.keras.optimizers.Adam(learning_rate=1e-4)\n",
        "    model.compile(\n",
        "        optimizer=optimizer, loss=\"categorical_crossentropy\", metrics=[\"accuracy\"]\n",
        "    )\n",
        "\n",
        "\n",
        "unfreeze_model(model)\n",
        "\n",
        "epochs = 50\n",
        "hist = model.fit(train_ds, epochs=epochs, validation_data=val_ds, verbose=2)\n",
        "plot_hist(hist)"
      ],
      "metadata": {
        "id": "bs9J5_aoBGxt",
        "colab": {
          "base_uri": "https://localhost:8080/",
          "height": 1000
        },
        "outputId": "ce3e2e13-6e24-448d-87cc-694f1be92641"
      },
      "execution_count": null,
      "outputs": [
        {
          "output_type": "stream",
          "name": "stdout",
          "text": [
            "Epoch 1/50\n",
            "336/336 - 28s - loss: 1.2830 - accuracy: 0.5285 - val_loss: 1.1158 - val_accuracy: 0.5892 - 28s/epoch - 83ms/step\n",
            "Epoch 2/50\n",
            "336/336 - 16s - loss: 1.1559 - accuracy: 0.5806 - val_loss: 1.0216 - val_accuracy: 0.6283 - 16s/epoch - 47ms/step\n",
            "Epoch 3/50\n",
            "336/336 - 16s - loss: 1.0750 - accuracy: 0.6101 - val_loss: 0.9717 - val_accuracy: 0.6503 - 16s/epoch - 47ms/step\n",
            "Epoch 4/50\n",
            "336/336 - 16s - loss: 1.0378 - accuracy: 0.6166 - val_loss: 0.9266 - val_accuracy: 0.6668 - 16s/epoch - 47ms/step\n",
            "Epoch 5/50\n",
            "336/336 - 16s - loss: 0.9960 - accuracy: 0.6382 - val_loss: 0.9032 - val_accuracy: 0.6794 - 16s/epoch - 47ms/step\n",
            "Epoch 6/50\n",
            "336/336 - 16s - loss: 0.9600 - accuracy: 0.6490 - val_loss: 0.8973 - val_accuracy: 0.6822 - 16s/epoch - 47ms/step\n",
            "Epoch 7/50\n",
            "336/336 - 16s - loss: 0.9346 - accuracy: 0.6599 - val_loss: 0.8701 - val_accuracy: 0.6879 - 16s/epoch - 47ms/step\n",
            "Epoch 8/50\n",
            "336/336 - 16s - loss: 0.8990 - accuracy: 0.6719 - val_loss: 0.8564 - val_accuracy: 0.7018 - 16s/epoch - 47ms/step\n",
            "Epoch 9/50\n",
            "336/336 - 16s - loss: 0.8660 - accuracy: 0.6904 - val_loss: 0.8525 - val_accuracy: 0.7009 - 16s/epoch - 47ms/step\n",
            "Epoch 10/50\n",
            "336/336 - 16s - loss: 0.8541 - accuracy: 0.6883 - val_loss: 0.8298 - val_accuracy: 0.7072 - 16s/epoch - 47ms/step\n",
            "Epoch 11/50\n",
            "336/336 - 16s - loss: 0.8343 - accuracy: 0.6981 - val_loss: 0.8336 - val_accuracy: 0.7085 - 16s/epoch - 47ms/step\n",
            "Epoch 12/50\n",
            "336/336 - 16s - loss: 0.8192 - accuracy: 0.7025 - val_loss: 0.8243 - val_accuracy: 0.7183 - 16s/epoch - 47ms/step\n",
            "Epoch 13/50\n",
            "336/336 - 16s - loss: 0.7973 - accuracy: 0.7134 - val_loss: 0.7926 - val_accuracy: 0.7229 - 16s/epoch - 48ms/step\n",
            "Epoch 14/50\n",
            "336/336 - 16s - loss: 0.7646 - accuracy: 0.7289 - val_loss: 0.8156 - val_accuracy: 0.7170 - 16s/epoch - 47ms/step\n",
            "Epoch 15/50\n",
            "336/336 - 16s - loss: 0.7601 - accuracy: 0.7297 - val_loss: 0.7731 - val_accuracy: 0.7251 - 16s/epoch - 47ms/step\n",
            "Epoch 16/50\n",
            "336/336 - 16s - loss: 0.7433 - accuracy: 0.7361 - val_loss: 0.7797 - val_accuracy: 0.7292 - 16s/epoch - 47ms/step\n",
            "Epoch 17/50\n",
            "336/336 - 16s - loss: 0.7146 - accuracy: 0.7471 - val_loss: 0.7525 - val_accuracy: 0.7348 - 16s/epoch - 47ms/step\n",
            "Epoch 18/50\n",
            "336/336 - 16s - loss: 0.7229 - accuracy: 0.7364 - val_loss: 0.7842 - val_accuracy: 0.7244 - 16s/epoch - 47ms/step\n",
            "Epoch 19/50\n",
            "336/336 - 16s - loss: 0.6898 - accuracy: 0.7531 - val_loss: 0.7705 - val_accuracy: 0.7290 - 16s/epoch - 47ms/step\n",
            "Epoch 20/50\n",
            "336/336 - 16s - loss: 0.6744 - accuracy: 0.7611 - val_loss: 0.7638 - val_accuracy: 0.7338 - 16s/epoch - 47ms/step\n",
            "Epoch 21/50\n",
            "336/336 - 16s - loss: 0.6750 - accuracy: 0.7529 - val_loss: 0.7481 - val_accuracy: 0.7353 - 16s/epoch - 47ms/step\n",
            "Epoch 22/50\n",
            "336/336 - 16s - loss: 0.6520 - accuracy: 0.7693 - val_loss: 0.7431 - val_accuracy: 0.7409 - 16s/epoch - 47ms/step\n",
            "Epoch 23/50\n",
            "336/336 - 16s - loss: 0.6381 - accuracy: 0.7688 - val_loss: 0.7478 - val_accuracy: 0.7338 - 16s/epoch - 47ms/step\n",
            "Epoch 24/50\n",
            "336/336 - 16s - loss: 0.6308 - accuracy: 0.7817 - val_loss: 0.7485 - val_accuracy: 0.7331 - 16s/epoch - 47ms/step\n",
            "Epoch 25/50\n",
            "336/336 - 16s - loss: 0.6086 - accuracy: 0.7861 - val_loss: 0.7529 - val_accuracy: 0.7385 - 16s/epoch - 47ms/step\n",
            "Epoch 26/50\n",
            "336/336 - 16s - loss: 0.6013 - accuracy: 0.7815 - val_loss: 0.7414 - val_accuracy: 0.7398 - 16s/epoch - 47ms/step\n",
            "Epoch 27/50\n",
            "336/336 - 16s - loss: 0.5859 - accuracy: 0.7917 - val_loss: 0.7614 - val_accuracy: 0.7366 - 16s/epoch - 47ms/step\n",
            "Epoch 28/50\n",
            "336/336 - 16s - loss: 0.5794 - accuracy: 0.7954 - val_loss: 0.7321 - val_accuracy: 0.7455 - 16s/epoch - 47ms/step\n",
            "Epoch 29/50\n",
            "336/336 - 16s - loss: 0.5620 - accuracy: 0.7955 - val_loss: 0.7287 - val_accuracy: 0.7503 - 16s/epoch - 47ms/step\n",
            "Epoch 30/50\n",
            "336/336 - 16s - loss: 0.5520 - accuracy: 0.8018 - val_loss: 0.7247 - val_accuracy: 0.7464 - 16s/epoch - 47ms/step\n",
            "Epoch 31/50\n",
            "336/336 - 16s - loss: 0.5383 - accuracy: 0.8087 - val_loss: 0.7325 - val_accuracy: 0.7444 - 16s/epoch - 48ms/step\n",
            "Epoch 32/50\n",
            "336/336 - 16s - loss: 0.5369 - accuracy: 0.8095 - val_loss: 0.7244 - val_accuracy: 0.7435 - 16s/epoch - 48ms/step\n",
            "Epoch 33/50\n",
            "336/336 - 16s - loss: 0.5207 - accuracy: 0.8139 - val_loss: 0.7548 - val_accuracy: 0.7379 - 16s/epoch - 47ms/step\n",
            "Epoch 34/50\n",
            "336/336 - 16s - loss: 0.5171 - accuracy: 0.8162 - val_loss: 0.7680 - val_accuracy: 0.7342 - 16s/epoch - 47ms/step\n",
            "Epoch 35/50\n",
            "336/336 - 16s - loss: 0.4957 - accuracy: 0.8246 - val_loss: 0.7316 - val_accuracy: 0.7505 - 16s/epoch - 47ms/step\n",
            "Epoch 36/50\n",
            "336/336 - 16s - loss: 0.5068 - accuracy: 0.8180 - val_loss: 0.7939 - val_accuracy: 0.7285 - 16s/epoch - 47ms/step\n",
            "Epoch 37/50\n",
            "336/336 - 16s - loss: 0.4963 - accuracy: 0.8225 - val_loss: 0.7406 - val_accuracy: 0.7433 - 16s/epoch - 47ms/step\n",
            "Epoch 38/50\n",
            "336/336 - 16s - loss: 0.4717 - accuracy: 0.8309 - val_loss: 0.7169 - val_accuracy: 0.7524 - 16s/epoch - 47ms/step\n",
            "Epoch 39/50\n",
            "336/336 - 16s - loss: 0.4830 - accuracy: 0.8271 - val_loss: 0.7350 - val_accuracy: 0.7466 - 16s/epoch - 47ms/step\n",
            "Epoch 40/50\n",
            "336/336 - 16s - loss: 0.4532 - accuracy: 0.8414 - val_loss: 0.7563 - val_accuracy: 0.7433 - 16s/epoch - 47ms/step\n",
            "Epoch 41/50\n",
            "336/336 - 16s - loss: 0.4511 - accuracy: 0.8395 - val_loss: 0.7432 - val_accuracy: 0.7433 - 16s/epoch - 47ms/step\n",
            "Epoch 42/50\n",
            "336/336 - 16s - loss: 0.4511 - accuracy: 0.8401 - val_loss: 0.7849 - val_accuracy: 0.7344 - 16s/epoch - 47ms/step\n",
            "Epoch 43/50\n",
            "336/336 - 16s - loss: 0.4306 - accuracy: 0.8446 - val_loss: 0.7868 - val_accuracy: 0.7392 - 16s/epoch - 47ms/step\n",
            "Epoch 44/50\n",
            "336/336 - 16s - loss: 0.4295 - accuracy: 0.8462 - val_loss: 0.7489 - val_accuracy: 0.7485 - 16s/epoch - 47ms/step\n",
            "Epoch 45/50\n",
            "336/336 - 16s - loss: 0.4221 - accuracy: 0.8527 - val_loss: 0.7387 - val_accuracy: 0.7481 - 16s/epoch - 47ms/step\n",
            "Epoch 46/50\n",
            "336/336 - 16s - loss: 0.4112 - accuracy: 0.8575 - val_loss: 0.7405 - val_accuracy: 0.7498 - 16s/epoch - 47ms/step\n",
            "Epoch 47/50\n",
            "336/336 - 16s - loss: 0.4047 - accuracy: 0.8585 - val_loss: 0.7461 - val_accuracy: 0.7481 - 16s/epoch - 47ms/step\n",
            "Epoch 48/50\n",
            "336/336 - 16s - loss: 0.3922 - accuracy: 0.8643 - val_loss: 0.7531 - val_accuracy: 0.7520 - 16s/epoch - 47ms/step\n",
            "Epoch 49/50\n",
            "336/336 - 16s - loss: 0.4030 - accuracy: 0.8587 - val_loss: 0.7457 - val_accuracy: 0.7474 - 16s/epoch - 47ms/step\n",
            "Epoch 50/50\n",
            "336/336 - 16s - loss: 0.3887 - accuracy: 0.8643 - val_loss: 0.7542 - val_accuracy: 0.7453 - 16s/epoch - 47ms/step\n"
          ]
        },
        {
          "output_type": "display_data",
          "data": {
            "text/plain": [
              "<Figure size 432x288 with 1 Axes>"
            ],
            "image/png": "[encoded data removed]"
          },
          "metadata": {
            "needs_background": "light"
          }
        }
      ]
    },
    {
      "cell_type": "code",
      "source": [
        "def unfreeze_model(model):\n",
        "    # We unfreeze the top 20 layers while leaving BatchNorm layers frozen\n",
        "    for layer in model.layers[-20:]:\n",
        "        if not isinstance(layer, layers.BatchNormalization):\n",
        "            layer.trainable = True\n",
        "\n",
        "    optimizer = tf.keras.optimizers.Adam(learning_rate=1e-5)\n",
        "    model.compile(\n",
        "        optimizer=optimizer, loss=\"categorical_crossentropy\", metrics=[\"accuracy\"]\n",
        "    )\n",
        "\n",
        "\n",
        "unfreeze_model(model)\n",
        "\n",
        "epochs = 50\n",
        "hist = model.fit(train_ds, epochs=epochs, validation_data=val_ds, verbose=2)\n",
        "plot_hist(hist)"
      ],
      "metadata": {
        "colab": {
          "base_uri": "https://localhost:8080/"
        },
        "id": "w15pZuiWxk2D",
        "outputId": "3e3918ca-d059-4c72-dd34-2a1e4981f1bb"
      },
      "execution_count": null,
      "outputs": [
        {
          "metadata": {
            "tags": null
          },
          "name": "stdout",
          "output_type": "stream",
          "text": [
            "Epoch 1/50\n",
            "336/336 - 26s - loss: 0.3607 - accuracy: 0.8745 - val_loss: 0.7337 - val_accuracy: 0.7520 - 26s/epoch - 77ms/step\n",
            "Epoch 2/50\n",
            "336/336 - 16s - loss: 0.3525 - accuracy: 0.8741 - val_loss: 0.7355 - val_accuracy: 0.7540 - 16s/epoch - 47ms/step\n",
            "Epoch 3/50\n",
            "336/336 - 16s - loss: 0.3502 - accuracy: 0.8799 - val_loss: 0.7313 - val_accuracy: 0.7559 - 16s/epoch - 47ms/step\n",
            "Epoch 4/50\n",
            "336/336 - 16s - loss: 0.3569 - accuracy: 0.8774 - val_loss: 0.7330 - val_accuracy: 0.7544 - 16s/epoch - 47ms/step\n",
            "Epoch 5/50\n",
            "336/336 - 16s - loss: 0.3383 - accuracy: 0.8803 - val_loss: 0.7293 - val_accuracy: 0.7561 - 16s/epoch - 47ms/step\n",
            "Epoch 6/50\n",
            "336/336 - 16s - loss: 0.3520 - accuracy: 0.8763 - val_loss: 0.7366 - val_accuracy: 0.7542 - 16s/epoch - 47ms/step\n",
            "Epoch 7/50\n",
            "336/336 - 16s - loss: 0.3521 - accuracy: 0.8789 - val_loss: 0.7266 - val_accuracy: 0.7555 - 16s/epoch - 47ms/step\n",
            "Epoch 8/50\n",
            "336/336 - 16s - loss: 0.3404 - accuracy: 0.8802 - val_loss: 0.7303 - val_accuracy: 0.7535 - 16s/epoch - 47ms/step\n",
            "Epoch 9/50\n",
            "336/336 - 16s - loss: 0.3461 - accuracy: 0.8787 - val_loss: 0.7306 - val_accuracy: 0.7570 - 16s/epoch - 47ms/step\n",
            "Epoch 10/50\n",
            "336/336 - 16s - loss: 0.3439 - accuracy: 0.8777 - val_loss: 0.7371 - val_accuracy: 0.7561 - 16s/epoch - 47ms/step\n",
            "Epoch 11/50\n",
            "336/336 - 16s - loss: 0.3416 - accuracy: 0.8778 - val_loss: 0.7338 - val_accuracy: 0.7537 - 16s/epoch - 47ms/step\n",
            "Epoch 12/50\n",
            "336/336 - 16s - loss: 0.3392 - accuracy: 0.8826 - val_loss: 0.7264 - val_accuracy: 0.7572 - 16s/epoch - 47ms/step\n",
            "Epoch 13/50\n",
            "336/336 - 16s - loss: 0.3417 - accuracy: 0.8813 - val_loss: 0.7316 - val_accuracy: 0.7559 - 16s/epoch - 47ms/step\n",
            "Epoch 14/50\n",
            "336/336 - 16s - loss: 0.3342 - accuracy: 0.8846 - val_loss: 0.7280 - val_accuracy: 0.7579 - 16s/epoch - 47ms/step\n",
            "Epoch 15/50\n",
            "336/336 - 16s - loss: 0.3297 - accuracy: 0.8865 - val_loss: 0.7305 - val_accuracy: 0.7572 - 16s/epoch - 47ms/step\n",
            "Epoch 16/50\n",
            "336/336 - 16s - loss: 0.3301 - accuracy: 0.8863 - val_loss: 0.7296 - val_accuracy: 0.7574 - 16s/epoch - 47ms/step\n",
            "Epoch 17/50\n",
            "336/336 - 16s - loss: 0.3353 - accuracy: 0.8843 - val_loss: 0.7345 - val_accuracy: 0.7544 - 16s/epoch - 47ms/step\n",
            "Epoch 18/50\n",
            "336/336 - 16s - loss: 0.3282 - accuracy: 0.8851 - val_loss: 0.7367 - val_accuracy: 0.7551 - 16s/epoch - 47ms/step\n",
            "Epoch 19/50\n",
            "336/336 - 16s - loss: 0.3357 - accuracy: 0.8830 - val_loss: 0.7350 - val_accuracy: 0.7564 - 16s/epoch - 47ms/step\n",
            "Epoch 20/50\n",
            "336/336 - 16s - loss: 0.3304 - accuracy: 0.8816 - val_loss: 0.7351 - val_accuracy: 0.7577 - 16s/epoch - 47ms/step\n",
            "Epoch 21/50\n",
            "336/336 - 16s - loss: 0.3307 - accuracy: 0.8852 - val_loss: 0.7405 - val_accuracy: 0.7587 - 16s/epoch - 47ms/step\n",
            "Epoch 22/50\n",
            "336/336 - 16s - loss: 0.3269 - accuracy: 0.8876 - val_loss: 0.7361 - val_accuracy: 0.7577 - 16s/epoch - 47ms/step\n",
            "Epoch 23/50\n",
            "336/336 - 16s - loss: 0.3224 - accuracy: 0.8912 - val_loss: 0.7374 - val_accuracy: 0.7587 - 16s/epoch - 47ms/step\n",
            "Epoch 24/50\n",
            "336/336 - 16s - loss: 0.3278 - accuracy: 0.8851 - val_loss: 0.7413 - val_accuracy: 0.7559 - 16s/epoch - 47ms/step\n",
            "Epoch 25/50\n",
            "336/336 - 16s - loss: 0.3111 - accuracy: 0.8955 - val_loss: 0.7307 - val_accuracy: 0.7596 - 16s/epoch - 47ms/step\n",
            "Epoch 26/50\n",
            "336/336 - 16s - loss: 0.3290 - accuracy: 0.8822 - val_loss: 0.7353 - val_accuracy: 0.7570 - 16s/epoch - 47ms/step\n",
            "Epoch 27/50\n",
            "336/336 - 16s - loss: 0.3199 - accuracy: 0.8866 - val_loss: 0.7353 - val_accuracy: 0.7570 - 16s/epoch - 47ms/step\n",
            "Epoch 28/50\n",
            "336/336 - 16s - loss: 0.3310 - accuracy: 0.8864 - val_loss: 0.7347 - val_accuracy: 0.7581 - 16s/epoch - 47ms/step\n",
            "Epoch 29/50\n",
            "336/336 - 16s - loss: 0.3336 - accuracy: 0.8830 - val_loss: 0.7459 - val_accuracy: 0.7559 - 16s/epoch - 47ms/step\n",
            "Epoch 30/50\n",
            "336/336 - 16s - loss: 0.3253 - accuracy: 0.8882 - val_loss: 0.7384 - val_accuracy: 0.7555 - 16s/epoch - 47ms/step\n",
            "Epoch 31/50\n",
            "336/336 - 16s - loss: 0.3153 - accuracy: 0.8892 - val_loss: 0.7357 - val_accuracy: 0.7564 - 16s/epoch - 47ms/step\n",
            "Epoch 32/50\n",
            "336/336 - 16s - loss: 0.3215 - accuracy: 0.8892 - val_loss: 0.7318 - val_accuracy: 0.7546 - 16s/epoch - 47ms/step\n",
            "Epoch 33/50\n",
            "336/336 - 16s - loss: 0.3187 - accuracy: 0.8896 - val_loss: 0.7360 - val_accuracy: 0.7559 - 16s/epoch - 47ms/step\n",
            "Epoch 34/50\n",
            "336/336 - 16s - loss: 0.3163 - accuracy: 0.8920 - val_loss: 0.7323 - val_accuracy: 0.7561 - 16s/epoch - 47ms/step\n",
            "Epoch 35/50\n",
            "336/336 - 16s - loss: 0.3185 - accuracy: 0.8868 - val_loss: 0.7379 - val_accuracy: 0.7585 - 16s/epoch - 47ms/step\n",
            "Epoch 36/50\n",
            "336/336 - 16s - loss: 0.3162 - accuracy: 0.8943 - val_loss: 0.7373 - val_accuracy: 0.7579 - 16s/epoch - 47ms/step\n",
            "Epoch 37/50\n",
            "336/336 - 16s - loss: 0.3157 - accuracy: 0.8896 - val_loss: 0.7360 - val_accuracy: 0.7559 - 16s/epoch - 47ms/step\n",
            "Epoch 38/50\n",
            "336/336 - 16s - loss: 0.3158 - accuracy: 0.8928 - val_loss: 0.7385 - val_accuracy: 0.7551 - 16s/epoch - 47ms/step\n",
            "Epoch 39/50\n",
            "336/336 - 16s - loss: 0.3132 - accuracy: 0.8912 - val_loss: 0.7384 - val_accuracy: 0.7537 - 16s/epoch - 47ms/step\n",
            "Epoch 40/50\n",
            "336/336 - 16s - loss: 0.3109 - accuracy: 0.8919 - val_loss: 0.7372 - val_accuracy: 0.7566 - 16s/epoch - 47ms/step\n",
            "Epoch 41/50\n"
          ]
        }
      ]
    },
    {
      "cell_type": "markdown",
      "source": [
        "##VGG16"
      ],
      "metadata": {
        "id": "-IIUfLmVE3iy"
      }
    },
    {
      "cell_type": "code",
      "source": [
        "from keras.applications.vgg16 import VGG16\n",
        "model = VGG16()\n",
        "print(model.summary())"
      ],
      "metadata": {
        "colab": {
          "base_uri": "https://localhost:8080/"
        },
        "id": "HkCwPfQBoif9",
        "outputId": "0733bbca-301d-470e-c9d2-236faedba34b"
      },
      "execution_count": null,
      "outputs": [
        {
          "output_type": "stream",
          "name": "stdout",
          "text": [
            "Downloading data from https://storage.googleapis.com/tensorflow/keras-applications/vgg16/vgg16_weights_tf_dim_ordering_tf_kernels.h5\n",
            "553467904/553467096 [==============================] - 2s 0us/step\n",
            "553476096/553467096 [==============================] - 2s 0us/step\n",
            "Model: \"vgg16\"\n",
            "_________________________________________________________________\n",
            " Layer (type)                Output Shape              Param #   \n",
            "=================================================================\n",
            " input_2 (InputLayer)        [(None, 224, 224, 3)]     0         \n",
            "                                                                 \n",
            " block1_conv1 (Conv2D)       (None, 224, 224, 64)      1792      \n",
            "                                                                 \n",
            " block1_conv2 (Conv2D)       (None, 224, 224, 64)      36928     \n",
            "                                                                 \n",
            " block1_pool (MaxPooling2D)  (None, 112, 112, 64)      0         \n",
            "                                                                 \n",
            " block2_conv1 (Conv2D)       (None, 112, 112, 128)     73856     \n",
            "                                                                 \n",
            " block2_conv2 (Conv2D)       (None, 112, 112, 128)     147584    \n",
            "                                                                 \n",
            " block2_pool (MaxPooling2D)  (None, 56, 56, 128)       0         \n",
            "                                                                 \n",
            " block3_conv1 (Conv2D)       (None, 56, 56, 256)       295168    \n",
            "                                                                 \n",
            " block3_conv2 (Conv2D)       (None, 56, 56, 256)       590080    \n",
            "                                                                 \n",
            " block3_conv3 (Conv2D)       (None, 56, 56, 256)       590080    \n",
            "                                                                 \n",
            " block3_pool (MaxPooling2D)  (None, 28, 28, 256)       0         \n",
            "                                                                 \n",
            " block4_conv1 (Conv2D)       (None, 28, 28, 512)       1180160   \n",
            "                                                                 \n",
            " block4_conv2 (Conv2D)       (None, 28, 28, 512)       2359808   \n",
            "                                                                 \n",
            " block4_conv3 (Conv2D)       (None, 28, 28, 512)       2359808   \n",
            "                                                                 \n",
            " block4_pool (MaxPooling2D)  (None, 14, 14, 512)       0         \n",
            "                                                                 \n",
            " block5_conv1 (Conv2D)       (None, 14, 14, 512)       2359808   \n",
            "                                                                 \n",
            " block5_conv2 (Conv2D)       (None, 14, 14, 512)       2359808   \n",
            "                                                                 \n",
            " block5_conv3 (Conv2D)       (None, 14, 14, 512)       2359808   \n",
            "                                                                 \n",
            " block5_pool (MaxPooling2D)  (None, 7, 7, 512)         0         \n",
            "                                                                 \n",
            " flatten (Flatten)           (None, 25088)             0         \n",
            "                                                                 \n",
            " fc1 (Dense)                 (None, 4096)              102764544 \n",
            "                                                                 \n",
            " fc2 (Dense)                 (None, 4096)              16781312  \n",
            "                                                                 \n",
            " predictions (Dense)         (None, 1000)              4097000   \n",
            "                                                                 \n",
            "=================================================================\n",
            "Total params: 138,357,544\n",
            "Trainable params: 138,357,544\n",
            "Non-trainable params: 0\n",
            "_________________________________________________________________\n",
            "None\n"
          ]
        }
      ]
    },
    {
      "cell_type": "code",
      "source": [
        "from keras.applications.vgg16 import VGG16\n",
        "\n",
        "with strategy.scope():\n",
        "    inputs = layers.Input(shape=(IMG_SIZE, IMG_SIZE, 3))\n",
        "    x = img_augmentation(inputs)\n",
        "    outputs = VGG16(include_top=True, weights=None, classes=7)(x)\n",
        "\n",
        "    model = tf.keras.Model(inputs, outputs)\n",
        "    model.compile(\n",
        "        optimizer=\"adam\", loss=\"categorical_crossentropy\", metrics=[\"accuracy\"]\n",
        "    )\n",
        "\n",
        "model.summary()\n",
        "\n",
        "epochs = 40\n",
        "hist = model.fit(train_ds, epochs=epochs, validation_data=val_ds, verbose=2)"
      ],
      "metadata": {
        "colab": {
          "base_uri": "https://localhost:8080/"
        },
        "id": "gAnNQTKgLPbT",
        "outputId": "d351c67b-8da7-464a-d64b-681846198ab4"
      },
      "execution_count": null,
      "outputs": [
        {
          "output_type": "stream",
          "name": "stdout",
          "text": [
            "INFO:tensorflow:Reduce to /job:localhost/replica:0/task:0/device:CPU:0 then broadcast to ('/job:localhost/replica:0/task:0/device:CPU:0',).\n",
            "INFO:tensorflow:Reduce to /job:localhost/replica:0/task:0/device:CPU:0 then broadcast to ('/job:localhost/replica:0/task:0/device:CPU:0',).\n",
            "INFO:tensorflow:Reduce to /job:localhost/replica:0/task:0/device:CPU:0 then broadcast to ('/job:localhost/replica:0/task:0/device:CPU:0',).\n",
            "INFO:tensorflow:Reduce to /job:localhost/replica:0/task:0/device:CPU:0 then broadcast to ('/job:localhost/replica:0/task:0/device:CPU:0',).\n",
            "Model: \"model\"\n",
            "_________________________________________________________________\n",
            " Layer (type)                Output Shape              Param #   \n",
            "=================================================================\n",
            " input_3 (InputLayer)        [(None, 224, 224, 3)]     0         \n",
            "                                                                 \n",
            " img_augmentation (Sequentia  (None, 224, 224, 3)      0         \n",
            " l)                                                              \n",
            "                                                                 \n",
            " vgg16 (Functional)          (None, 7)                 134289223 \n",
            "                                                                 \n",
            "=================================================================\n",
            "Total params: 134,289,223\n",
            "Trainable params: 134,289,223\n",
            "Non-trainable params: 0\n",
            "_________________________________________________________________\n",
            "Epoch 1/40\n",
            "INFO:tensorflow:Reduce to /job:localhost/replica:0/task:0/device:CPU:0 then broadcast to ('/job:localhost/replica:0/task:0/device:CPU:0',).\n",
            "INFO:tensorflow:Reduce to /job:localhost/replica:0/task:0/device:CPU:0 then broadcast to ('/job:localhost/replica:0/task:0/device:CPU:0',).\n",
            "INFO:tensorflow:Reduce to /job:localhost/replica:0/task:0/device:CPU:0 then broadcast to ('/job:localhost/replica:0/task:0/device:CPU:0',).\n",
            "INFO:tensorflow:Reduce to /job:localhost/replica:0/task:0/device:CPU:0 then broadcast to ('/job:localhost/replica:0/task:0/device:CPU:0',).\n",
            "INFO:tensorflow:Reduce to /job:localhost/replica:0/task:0/device:CPU:0 then broadcast to ('/job:localhost/replica:0/task:0/device:CPU:0',).\n",
            "INFO:tensorflow:Reduce to /job:localhost/replica:0/task:0/device:CPU:0 then broadcast to ('/job:localhost/replica:0/task:0/device:CPU:0',).\n",
            "336/336 - 829s - loss: 134.0064 - accuracy: 0.3739 - val_loss: 1.6411 - val_accuracy: 0.3971 - 829s/epoch - 2s/step\n",
            "Epoch 2/40\n",
            "336/336 - 54s - loss: 1.6460 - accuracy: 0.3846 - val_loss: 1.6357 - val_accuracy: 0.3971 - 54s/epoch - 161ms/step\n",
            "Epoch 3/40\n",
            "336/336 - 54s - loss: 1.6460 - accuracy: 0.3846 - val_loss: 1.6365 - val_accuracy: 0.3971 - 54s/epoch - 161ms/step\n",
            "Epoch 4/40\n",
            "336/336 - 54s - loss: 1.6448 - accuracy: 0.3846 - val_loss: 1.6367 - val_accuracy: 0.3971 - 54s/epoch - 161ms/step\n",
            "Epoch 5/40\n",
            "336/336 - 54s - loss: 1.6437 - accuracy: 0.3846 - val_loss: 1.6355 - val_accuracy: 0.3971 - 54s/epoch - 161ms/step\n",
            "Epoch 6/40\n",
            "336/336 - 54s - loss: 1.6445 - accuracy: 0.3846 - val_loss: 1.6347 - val_accuracy: 0.3971 - 54s/epoch - 161ms/step\n",
            "Epoch 7/40\n",
            "336/336 - 54s - loss: 1.6435 - accuracy: 0.3846 - val_loss: 1.6357 - val_accuracy: 0.3971 - 54s/epoch - 161ms/step\n",
            "Epoch 8/40\n",
            "336/336 - 54s - loss: 1.6434 - accuracy: 0.3846 - val_loss: 1.6352 - val_accuracy: 0.3971 - 54s/epoch - 161ms/step\n",
            "Epoch 9/40\n",
            "336/336 - 54s - loss: 1.6428 - accuracy: 0.3846 - val_loss: 1.6351 - val_accuracy: 0.3971 - 54s/epoch - 161ms/step\n",
            "Epoch 10/40\n",
            "336/336 - 54s - loss: 1.6432 - accuracy: 0.3846 - val_loss: 1.6349 - val_accuracy: 0.3971 - 54s/epoch - 161ms/step\n",
            "Epoch 11/40\n",
            "336/336 - 54s - loss: 1.6430 - accuracy: 0.3846 - val_loss: 1.6354 - val_accuracy: 0.3971 - 54s/epoch - 161ms/step\n",
            "Epoch 12/40\n",
            "336/336 - 54s - loss: 1.6434 - accuracy: 0.3846 - val_loss: 1.6344 - val_accuracy: 0.3971 - 54s/epoch - 161ms/step\n",
            "Epoch 13/40\n",
            "336/336 - 54s - loss: 1.6428 - accuracy: 0.3846 - val_loss: 1.6351 - val_accuracy: 0.3971 - 54s/epoch - 161ms/step\n",
            "Epoch 14/40\n",
            "336/336 - 54s - loss: 1.6427 - accuracy: 0.3846 - val_loss: 1.6349 - val_accuracy: 0.3971 - 54s/epoch - 161ms/step\n",
            "Epoch 15/40\n",
            "336/336 - 54s - loss: 1.6428 - accuracy: 0.3846 - val_loss: 1.6347 - val_accuracy: 0.3971 - 54s/epoch - 161ms/step\n",
            "Epoch 16/40\n",
            "336/336 - 54s - loss: 1.6426 - accuracy: 0.3846 - val_loss: 1.6341 - val_accuracy: 0.3971 - 54s/epoch - 161ms/step\n",
            "Epoch 17/40\n",
            "336/336 - 54s - loss: 1.6431 - accuracy: 0.3846 - val_loss: 1.6346 - val_accuracy: 0.3971 - 54s/epoch - 161ms/step\n",
            "Epoch 18/40\n",
            "336/336 - 54s - loss: 1.6426 - accuracy: 0.3846 - val_loss: 1.6350 - val_accuracy: 0.3971 - 54s/epoch - 161ms/step\n",
            "Epoch 19/40\n",
            "336/336 - 54s - loss: 1.6427 - accuracy: 0.3846 - val_loss: 1.6348 - val_accuracy: 0.3971 - 54s/epoch - 161ms/step\n",
            "Epoch 20/40\n",
            "336/336 - 54s - loss: 1.6431 - accuracy: 0.3846 - val_loss: 1.6345 - val_accuracy: 0.3971 - 54s/epoch - 161ms/step\n",
            "Epoch 21/40\n",
            "336/336 - 54s - loss: 1.6429 - accuracy: 0.3846 - val_loss: 1.6344 - val_accuracy: 0.3971 - 54s/epoch - 161ms/step\n",
            "Epoch 22/40\n",
            "336/336 - 54s - loss: 1.6425 - accuracy: 0.3846 - val_loss: 1.6342 - val_accuracy: 0.3971 - 54s/epoch - 161ms/step\n",
            "Epoch 23/40\n",
            "336/336 - 54s - loss: 1.6428 - accuracy: 0.3846 - val_loss: 1.6348 - val_accuracy: 0.3971 - 54s/epoch - 161ms/step\n",
            "Epoch 24/40\n",
            "336/336 - 54s - loss: 1.6426 - accuracy: 0.3846 - val_loss: 1.6346 - val_accuracy: 0.3971 - 54s/epoch - 161ms/step\n",
            "Epoch 25/40\n",
            "336/336 - 54s - loss: 1.6424 - accuracy: 0.3846 - val_loss: 1.6340 - val_accuracy: 0.3971 - 54s/epoch - 161ms/step\n",
            "Epoch 26/40\n",
            "336/336 - 54s - loss: 1.6425 - accuracy: 0.3846 - val_loss: 1.6341 - val_accuracy: 0.3971 - 54s/epoch - 161ms/step\n",
            "Epoch 27/40\n",
            "336/336 - 54s - loss: 1.6425 - accuracy: 0.3846 - val_loss: 1.6358 - val_accuracy: 0.3971 - 54s/epoch - 161ms/step\n",
            "Epoch 28/40\n",
            "336/336 - 54s - loss: 1.6421 - accuracy: 0.3846 - val_loss: 1.6346 - val_accuracy: 0.3971 - 54s/epoch - 161ms/step\n",
            "Epoch 29/40\n",
            "336/336 - 54s - loss: 1.6425 - accuracy: 0.3846 - val_loss: 1.6349 - val_accuracy: 0.3971 - 54s/epoch - 161ms/step\n",
            "Epoch 30/40\n",
            "336/336 - 54s - loss: 1.6423 - accuracy: 0.3846 - val_loss: 1.6346 - val_accuracy: 0.3971 - 54s/epoch - 161ms/step\n",
            "Epoch 31/40\n",
            "336/336 - 54s - loss: 1.6423 - accuracy: 0.3846 - val_loss: 1.6357 - val_accuracy: 0.3971 - 54s/epoch - 161ms/step\n",
            "Epoch 32/40\n",
            "336/336 - 54s - loss: 1.6424 - accuracy: 0.3846 - val_loss: 1.6352 - val_accuracy: 0.3971 - 54s/epoch - 161ms/step\n",
            "Epoch 33/40\n",
            "336/336 - 54s - loss: 1.6422 - accuracy: 0.3846 - val_loss: 1.6346 - val_accuracy: 0.3971 - 54s/epoch - 161ms/step\n",
            "Epoch 34/40\n",
            "336/336 - 54s - loss: 1.6420 - accuracy: 0.3846 - val_loss: 1.6351 - val_accuracy: 0.3971 - 54s/epoch - 161ms/step\n",
            "Epoch 35/40\n",
            "336/336 - 54s - loss: 1.6424 - accuracy: 0.3846 - val_loss: 1.6344 - val_accuracy: 0.3971 - 54s/epoch - 161ms/step\n",
            "Epoch 36/40\n",
            "336/336 - 54s - loss: 1.6422 - accuracy: 0.3846 - val_loss: 1.6345 - val_accuracy: 0.3971 - 54s/epoch - 161ms/step\n",
            "Epoch 37/40\n",
            "336/336 - 54s - loss: 1.6424 - accuracy: 0.3846 - val_loss: 1.6345 - val_accuracy: 0.3971 - 54s/epoch - 161ms/step\n",
            "Epoch 38/40\n",
            "336/336 - 54s - loss: 1.6422 - accuracy: 0.3846 - val_loss: 1.6344 - val_accuracy: 0.3971 - 54s/epoch - 161ms/step\n",
            "Epoch 39/40\n",
            "336/336 - 54s - loss: 1.6422 - accuracy: 0.3846 - val_loss: 1.6355 - val_accuracy: 0.3971 - 54s/epoch - 161ms/step\n",
            "Epoch 40/40\n",
            "336/336 - 54s - loss: 1.6424 - accuracy: 0.3846 - val_loss: 1.6354 - val_accuracy: 0.3971 - 54s/epoch - 161ms/step\n"
          ]
        }
      ]
    },
    {
      "cell_type": "code",
      "source": [
        "def build_model(num_classes):\n",
        "    inputs = layers.Input(shape=(IMG_SIZE, IMG_SIZE, 3))\n",
        "    x = img_augmentation(inputs)\n",
        "    model = VGG16(include_top=False, input_tensor=x, weights=\"imagenet\")\n",
        "\n",
        "    # Freeze the pretrained weights\n",
        "    model.trainable = False\n",
        "\n",
        "    # Rebuild top\n",
        "    x = layers.GlobalAveragePooling2D(name=\"avg_pool\")(model.output)\n",
        "    x = layers.BatchNormalization()(x)\n",
        "\n",
        "    top_dropout_rate = 0.2\n",
        "    x = layers.Dropout(top_dropout_rate, name=\"top_dropout\")(x)\n",
        "    outputs = layers.Dense(7, activation=\"softmax\", name=\"pred\")(x) #take input the number of classes (here 7)\n",
        "\n",
        "    # Compile\n",
        "    model = tf.keras.Model(inputs, outputs, name=\"VGG16\")\n",
        "    optimizer = tf.keras.optimizers.Adam(learning_rate=1e-2)\n",
        "    model.compile(\n",
        "        optimizer=optimizer, loss=\"categorical_crossentropy\", metrics=[\"accuracy\"]\n",
        "    )\n",
        "    return model"
      ],
      "metadata": {
        "id": "ryJ1im2aPica"
      },
      "execution_count": null,
      "outputs": []
    },
    {
      "cell_type": "code",
      "source": [
        "with strategy.scope():\n",
        "    model = build_model(num_classes=7)\n",
        "\n",
        "epochs = 25\n",
        "hist = model.fit(train_ds, epochs=epochs, validation_data=val_ds, verbose=2)\n",
        "plot_hist(hist)"
      ],
      "metadata": {
        "colab": {
          "base_uri": "https://localhost:8080/",
          "height": 1000
        },
        "id": "8yecayjWP1bJ",
        "outputId": "4408cfb0-3bba-4269-8bbc-c23d3552a6e5"
      },
      "execution_count": null,
      "outputs": [
        {
          "output_type": "stream",
          "name": "stdout",
          "text": [
            "Downloading data from https://storage.googleapis.com/tensorflow/keras-applications/vgg16/vgg16_weights_tf_dim_ordering_tf_kernels_notop.h5\n",
            "58892288/58889256 [==============================] - 1s 0us/step\n",
            "58900480/58889256 [==============================] - 1s 0us/step\n",
            "Epoch 1/25\n",
            "336/336 - 30s - loss: 1.7309 - accuracy: 0.4394 - val_loss: 1.4163 - val_accuracy: 0.4819 - 30s/epoch - 88ms/step\n",
            "Epoch 2/25\n",
            "336/336 - 25s - loss: 1.4274 - accuracy: 0.4826 - val_loss: 1.4119 - val_accuracy: 0.4647 - 25s/epoch - 75ms/step\n",
            "Epoch 3/25\n",
            "336/336 - 25s - loss: 1.3651 - accuracy: 0.4945 - val_loss: 1.3708 - val_accuracy: 0.4829 - 25s/epoch - 75ms/step\n",
            "Epoch 4/25\n",
            "336/336 - 25s - loss: 1.3465 - accuracy: 0.4959 - val_loss: 1.4020 - val_accuracy: 0.4801 - 25s/epoch - 76ms/step\n",
            "Epoch 5/25\n",
            "336/336 - 25s - loss: 1.3466 - accuracy: 0.4990 - val_loss: 1.3008 - val_accuracy: 0.5281 - 25s/epoch - 75ms/step\n",
            "Epoch 6/25\n",
            "336/336 - 25s - loss: 1.3446 - accuracy: 0.5015 - val_loss: 1.3263 - val_accuracy: 0.5214 - 25s/epoch - 75ms/step\n",
            "Epoch 7/25\n",
            "336/336 - 25s - loss: 1.3411 - accuracy: 0.4978 - val_loss: 1.3248 - val_accuracy: 0.5097 - 25s/epoch - 75ms/step\n",
            "Epoch 8/25\n",
            "336/336 - 25s - loss: 1.3434 - accuracy: 0.5013 - val_loss: 1.3180 - val_accuracy: 0.5158 - 25s/epoch - 76ms/step\n",
            "Epoch 9/25\n",
            "336/336 - 25s - loss: 1.3510 - accuracy: 0.4962 - val_loss: 1.3234 - val_accuracy: 0.5188 - 25s/epoch - 75ms/step\n",
            "Epoch 10/25\n",
            "336/336 - 25s - loss: 1.3553 - accuracy: 0.4929 - val_loss: 1.3668 - val_accuracy: 0.4949 - 25s/epoch - 76ms/step\n",
            "Epoch 11/25\n",
            "336/336 - 25s - loss: 1.3529 - accuracy: 0.4956 - val_loss: 1.3388 - val_accuracy: 0.5151 - 25s/epoch - 75ms/step\n",
            "Epoch 12/25\n",
            "336/336 - 25s - loss: 1.3555 - accuracy: 0.4946 - val_loss: 1.4789 - val_accuracy: 0.4447 - 25s/epoch - 75ms/step\n",
            "Epoch 13/25\n",
            "336/336 - 25s - loss: 1.3529 - accuracy: 0.4989 - val_loss: 1.3113 - val_accuracy: 0.5184 - 25s/epoch - 76ms/step\n",
            "Epoch 14/25\n",
            "336/336 - 25s - loss: 1.3477 - accuracy: 0.4993 - val_loss: 1.3311 - val_accuracy: 0.5025 - 25s/epoch - 76ms/step\n",
            "Epoch 15/25\n",
            "336/336 - 25s - loss: 1.3466 - accuracy: 0.5001 - val_loss: 1.2931 - val_accuracy: 0.5262 - 25s/epoch - 76ms/step\n",
            "Epoch 16/25\n",
            "336/336 - 25s - loss: 1.3662 - accuracy: 0.4912 - val_loss: 1.3391 - val_accuracy: 0.5127 - 25s/epoch - 76ms/step\n",
            "Epoch 17/25\n",
            "336/336 - 25s - loss: 1.3666 - accuracy: 0.4929 - val_loss: 1.3058 - val_accuracy: 0.5205 - 25s/epoch - 75ms/step\n",
            "Epoch 18/25\n",
            "336/336 - 25s - loss: 1.3573 - accuracy: 0.4944 - val_loss: 1.2748 - val_accuracy: 0.5251 - 25s/epoch - 76ms/step\n",
            "Epoch 19/25\n",
            "336/336 - 25s - loss: 1.3608 - accuracy: 0.4927 - val_loss: 1.3489 - val_accuracy: 0.5014 - 25s/epoch - 75ms/step\n",
            "Epoch 20/25\n",
            "336/336 - 25s - loss: 1.3678 - accuracy: 0.4899 - val_loss: 1.3110 - val_accuracy: 0.5140 - 25s/epoch - 76ms/step\n",
            "Epoch 21/25\n",
            "336/336 - 25s - loss: 1.3456 - accuracy: 0.4963 - val_loss: 1.3311 - val_accuracy: 0.5210 - 25s/epoch - 76ms/step\n",
            "Epoch 22/25\n",
            "336/336 - 25s - loss: 1.3583 - accuracy: 0.5013 - val_loss: 1.3521 - val_accuracy: 0.5071 - 25s/epoch - 75ms/step\n",
            "Epoch 23/25\n",
            "336/336 - 25s - loss: 1.3681 - accuracy: 0.4953 - val_loss: 1.2989 - val_accuracy: 0.5240 - 25s/epoch - 75ms/step\n",
            "Epoch 24/25\n",
            "336/336 - 25s - loss: 1.3653 - accuracy: 0.4902 - val_loss: 1.3514 - val_accuracy: 0.5103 - 25s/epoch - 75ms/step\n",
            "Epoch 25/25\n",
            "336/336 - 25s - loss: 1.3658 - accuracy: 0.4904 - val_loss: 1.3078 - val_accuracy: 0.5021 - 25s/epoch - 76ms/step\n"
          ]
        },
        {
          "output_type": "display_data",
          "data": {
            "text/plain": [
              "<Figure size 432x288 with 1 Axes>"
            ],
            "image/png": "[encoded data removed]"
          },
          "metadata": {
            "needs_background": "light"
          }
        }
      ]
    },
    {
      "cell_type": "code",
      "source": [
        "def unfreeze_model(model):\n",
        "    # We unfreeze the top 20 layers while leaving BatchNorm layers frozen\n",
        "    for layer in model.layers[-20:]:\n",
        "        if not isinstance(layer, layers.BatchNormalization):\n",
        "            layer.trainable = True\n",
        "\n",
        "    optimizer = tf.keras.optimizers.Adam(learning_rate=1e-4)\n",
        "    model.compile(\n",
        "        optimizer=optimizer, loss=\"categorical_crossentropy\", metrics=[\"accuracy\"]\n",
        "    )\n",
        "\n",
        "\n",
        "unfreeze_model(model)\n",
        "\n",
        "epochs = 40\n",
        "hist = model.fit(train_ds, epochs=epochs, validation_data=val_ds, verbose=2)\n",
        "plot_hist(hist)"
      ],
      "metadata": {
        "colab": {
          "base_uri": "https://localhost:8080/",
          "height": 1000
        },
        "id": "Jym6PmngP1S7",
        "outputId": "156d20e5-989c-4a8c-9845-77f6e8bc23f5"
      },
      "execution_count": null,
      "outputs": [
        {
          "output_type": "stream",
          "name": "stdout",
          "text": [
            "Epoch 1/40\n",
            "336/336 - 49s - loss: 0.4251 - accuracy: 0.8500 - val_loss: 0.8128 - val_accuracy: 0.7537 - 49s/epoch - 146ms/step\n",
            "Epoch 2/40\n",
            "336/336 - 44s - loss: 0.4018 - accuracy: 0.8591 - val_loss: 0.6501 - val_accuracy: 0.7844 - 44s/epoch - 132ms/step\n",
            "Epoch 3/40\n",
            "336/336 - 44s - loss: 0.3831 - accuracy: 0.8662 - val_loss: 0.7068 - val_accuracy: 0.7807 - 44s/epoch - 132ms/step\n",
            "Epoch 4/40\n",
            "336/336 - 44s - loss: 0.3691 - accuracy: 0.8715 - val_loss: 0.7291 - val_accuracy: 0.7757 - 44s/epoch - 132ms/step\n",
            "Epoch 5/40\n",
            "336/336 - 44s - loss: 0.3724 - accuracy: 0.8708 - val_loss: 0.7619 - val_accuracy: 0.7631 - 44s/epoch - 132ms/step\n",
            "Epoch 6/40\n",
            "336/336 - 44s - loss: 0.3479 - accuracy: 0.8797 - val_loss: 0.9382 - val_accuracy: 0.7257 - 44s/epoch - 132ms/step\n",
            "Epoch 7/40\n",
            "336/336 - 44s - loss: 0.3601 - accuracy: 0.8706 - val_loss: 0.8570 - val_accuracy: 0.7392 - 44s/epoch - 132ms/step\n",
            "Epoch 8/40\n",
            "336/336 - 44s - loss: 0.3448 - accuracy: 0.8797 - val_loss: 0.7142 - val_accuracy: 0.7927 - 44s/epoch - 132ms/step\n",
            "Epoch 9/40\n",
            "336/336 - 44s - loss: 0.3280 - accuracy: 0.8819 - val_loss: 0.7030 - val_accuracy: 0.7850 - 44s/epoch - 132ms/step\n",
            "Epoch 10/40\n",
            "336/336 - 44s - loss: 0.3167 - accuracy: 0.8877 - val_loss: 0.7285 - val_accuracy: 0.7859 - 44s/epoch - 132ms/step\n",
            "Epoch 11/40\n",
            "336/336 - 44s - loss: 0.2986 - accuracy: 0.8952 - val_loss: 0.7373 - val_accuracy: 0.7755 - 44s/epoch - 132ms/step\n",
            "Epoch 12/40\n",
            "336/336 - 44s - loss: 0.3032 - accuracy: 0.8946 - val_loss: 0.7917 - val_accuracy: 0.7829 - 44s/epoch - 132ms/step\n",
            "Epoch 13/40\n",
            "336/336 - 44s - loss: 0.3036 - accuracy: 0.8943 - val_loss: 0.8944 - val_accuracy: 0.7635 - 44s/epoch - 132ms/step\n",
            "Epoch 14/40\n",
            "336/336 - 44s - loss: 0.2881 - accuracy: 0.8970 - val_loss: 0.7927 - val_accuracy: 0.7805 - 44s/epoch - 132ms/step\n",
            "Epoch 15/40\n",
            "336/336 - 44s - loss: 0.2696 - accuracy: 0.9069 - val_loss: 0.7441 - val_accuracy: 0.7805 - 44s/epoch - 132ms/step\n",
            "Epoch 16/40\n",
            "336/336 - 44s - loss: 0.2758 - accuracy: 0.8993 - val_loss: 0.7833 - val_accuracy: 0.7724 - 44s/epoch - 132ms/step\n",
            "Epoch 17/40\n",
            "336/336 - 44s - loss: 0.2548 - accuracy: 0.9083 - val_loss: 0.9073 - val_accuracy: 0.7498 - 44s/epoch - 132ms/step\n",
            "Epoch 18/40\n",
            "336/336 - 44s - loss: 0.2559 - accuracy: 0.9063 - val_loss: 0.8529 - val_accuracy: 0.7748 - 44s/epoch - 132ms/step\n",
            "Epoch 19/40\n",
            "336/336 - 44s - loss: 0.2565 - accuracy: 0.9076 - val_loss: 0.8530 - val_accuracy: 0.7803 - 44s/epoch - 132ms/step\n",
            "Epoch 20/40\n",
            "336/336 - 44s - loss: 0.2368 - accuracy: 0.9160 - val_loss: 0.9515 - val_accuracy: 0.7488 - 44s/epoch - 132ms/step\n",
            "Epoch 21/40\n",
            "336/336 - 44s - loss: 0.2544 - accuracy: 0.9096 - val_loss: 1.0909 - val_accuracy: 0.7305 - 44s/epoch - 132ms/step\n",
            "Epoch 22/40\n",
            "336/336 - 44s - loss: 0.2353 - accuracy: 0.9179 - val_loss: 0.9535 - val_accuracy: 0.7579 - 44s/epoch - 132ms/step\n",
            "Epoch 23/40\n",
            "336/336 - 44s - loss: 0.2175 - accuracy: 0.9215 - val_loss: 0.8346 - val_accuracy: 0.7800 - 44s/epoch - 132ms/step\n",
            "Epoch 24/40\n",
            "336/336 - 44s - loss: 0.2208 - accuracy: 0.9242 - val_loss: 0.9192 - val_accuracy: 0.7716 - 44s/epoch - 132ms/step\n",
            "Epoch 25/40\n",
            "336/336 - 44s - loss: 0.2068 - accuracy: 0.9270 - val_loss: 0.9156 - val_accuracy: 0.7633 - 44s/epoch - 132ms/step\n",
            "Epoch 26/40\n",
            "336/336 - 44s - loss: 0.2130 - accuracy: 0.9254 - val_loss: 0.8813 - val_accuracy: 0.7781 - 44s/epoch - 132ms/step\n",
            "Epoch 27/40\n",
            "336/336 - 44s - loss: 0.2097 - accuracy: 0.9275 - val_loss: 0.8469 - val_accuracy: 0.7829 - 44s/epoch - 132ms/step\n",
            "Epoch 28/40\n",
            "336/336 - 44s - loss: 0.1867 - accuracy: 0.9362 - val_loss: 1.1345 - val_accuracy: 0.7481 - 44s/epoch - 132ms/step\n",
            "Epoch 29/40\n",
            "336/336 - 44s - loss: 0.2160 - accuracy: 0.9221 - val_loss: 0.8934 - val_accuracy: 0.7809 - 44s/epoch - 132ms/step\n",
            "Epoch 30/40\n",
            "336/336 - 44s - loss: 0.1970 - accuracy: 0.9304 - val_loss: 0.9104 - val_accuracy: 0.7790 - 44s/epoch - 132ms/step\n",
            "Epoch 31/40\n",
            "336/336 - 44s - loss: 0.2050 - accuracy: 0.9277 - val_loss: 1.0702 - val_accuracy: 0.7455 - 44s/epoch - 132ms/step\n",
            "Epoch 32/40\n",
            "336/336 - 44s - loss: 0.1956 - accuracy: 0.9293 - val_loss: 0.8815 - val_accuracy: 0.7877 - 44s/epoch - 132ms/step\n",
            "Epoch 33/40\n",
            "336/336 - 44s - loss: 0.1852 - accuracy: 0.9375 - val_loss: 1.0185 - val_accuracy: 0.7653 - 44s/epoch - 132ms/step\n",
            "Epoch 34/40\n",
            "336/336 - 44s - loss: 0.1700 - accuracy: 0.9410 - val_loss: 0.8822 - val_accuracy: 0.7903 - 44s/epoch - 132ms/step\n",
            "Epoch 35/40\n",
            "336/336 - 44s - loss: 0.1773 - accuracy: 0.9391 - val_loss: 0.9264 - val_accuracy: 0.7753 - 44s/epoch - 132ms/step\n",
            "Epoch 36/40\n",
            "336/336 - 44s - loss: 0.1605 - accuracy: 0.9445 - val_loss: 1.0780 - val_accuracy: 0.7627 - 44s/epoch - 132ms/step\n",
            "Epoch 37/40\n",
            "336/336 - 44s - loss: 0.1637 - accuracy: 0.9442 - val_loss: 0.9183 - val_accuracy: 0.7683 - 44s/epoch - 132ms/step\n",
            "Epoch 38/40\n",
            "336/336 - 44s - loss: 0.1645 - accuracy: 0.9433 - val_loss: 1.0577 - val_accuracy: 0.7651 - 44s/epoch - 132ms/step\n",
            "Epoch 39/40\n",
            "336/336 - 44s - loss: 0.1771 - accuracy: 0.9383 - val_loss: 0.9716 - val_accuracy: 0.7835 - 44s/epoch - 132ms/step\n",
            "Epoch 40/40\n",
            "336/336 - 44s - loss: 0.1537 - accuracy: 0.9460 - val_loss: 0.9771 - val_accuracy: 0.7859 - 44s/epoch - 132ms/step\n"
          ]
        },
        {
          "output_type": "display_data",
          "data": {
            "text/plain": [
              "<Figure size 432x288 with 1 Axes>"
            ],
            "image/png": "[encoded data removed]"
          },
          "metadata": {
            "needs_background": "light"
          }
        }
      ]
    }
  ]
}